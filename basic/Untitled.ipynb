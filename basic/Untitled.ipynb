{
 "cells": [
  {
   "cell_type": "markdown",
   "id": "a80d82a3-17a3-495c-92c7-0bb1d365767d",
   "metadata": {},
   "source": [
    "# hi\n",
    "## hi\n",
    "### hi\n",
    "#### hi\n",
    "##### hi\n",
    "###### hi"
   ]
  },
  {
   "cell_type": "markdown",
   "id": "e036bf51-5c71-445c-ab74-2eac74d29bf4",
   "metadata": {},
   "source": [
    "<h1>Hi</h1>"
   ]
  },
  {
   "cell_type": "code",
   "execution_count": null,
   "id": "6ad2034d-f7b3-4127-806d-5fd4fa7ab991",
   "metadata": {},
   "outputs": [],
   "source": []
  }
 ],
 "metadata": {
  "kernelspec": {
   "display_name": "Python 3 (ipykernel)",
   "language": "python",
   "name": "python3"
  },
  "language_info": {
   "codemirror_mode": {
    "name": "ipython",
    "version": 3
   },
   "file_extension": ".py",
   "mimetype": "text/x-python",
   "name": "python",
   "nbconvert_exporter": "python",
   "pygments_lexer": "ipython3",
   "version": "3.10.0"
  }
 },
 "nbformat": 4,
 "nbformat_minor": 5
}
